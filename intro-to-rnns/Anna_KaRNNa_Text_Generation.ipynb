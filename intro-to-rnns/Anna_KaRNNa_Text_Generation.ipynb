{
 "cells": [
  {
   "cell_type": "markdown",
   "source": [
    "# Anna KaRNNa\n",
    "\n",
    "In this notebook, I'll build a character-wise RNN trained on Anna Karenina, one of my all-time favorite books. It'll be able to generate new text based on the text from the book.\n",
    "\n",
    "This network is based off of Andrej Karpathy's [post on RNNs](http://karpathy.github.io/2015/05/21/rnn-effectiveness/) and [implementation in Torch](https://github.com/karpathy/char-rnn). Also, some information [here at r2rt](http://r2rt.com/recurrent-neural-networks-in-tensorflow-ii.html) and from [Sherjil Ozair](https://github.com/sherjilozair/char-rnn-tensorflow) on GitHub. Below is the general architecture of the character-wise RNN.\n",
    "\n",
    "<img src=\"assets/charseq.jpeg\" width=\"500\">"
   ],
   "metadata": {}
  },
  {
   "cell_type": "code",
   "execution_count": 1,
   "source": [
    "import time\r\n",
    "from collections import namedtuple\r\n",
    "\r\n",
    "import numpy as np\r\n",
    "import tensorflow as tf"
   ],
   "outputs": [
    {
     "output_type": "stream",
     "name": "stderr",
     "text": [
      "C:\\Users\\Sai Ram\\Anaconda3\\envs\\tf_1.4\\lib\\site-packages\\tensorflow\\python\\framework\\dtypes.py:516: FutureWarning: Passing (type, 1) or '1type' as a synonym of type is deprecated; in a future version of numpy, it will be understood as (type, (1,)) / '(1,)type'.\n",
      "  _np_qint8 = np.dtype([(\"qint8\", np.int8, 1)])\n",
      "C:\\Users\\Sai Ram\\Anaconda3\\envs\\tf_1.4\\lib\\site-packages\\tensorflow\\python\\framework\\dtypes.py:517: FutureWarning: Passing (type, 1) or '1type' as a synonym of type is deprecated; in a future version of numpy, it will be understood as (type, (1,)) / '(1,)type'.\n",
      "  _np_quint8 = np.dtype([(\"quint8\", np.uint8, 1)])\n",
      "C:\\Users\\Sai Ram\\Anaconda3\\envs\\tf_1.4\\lib\\site-packages\\tensorflow\\python\\framework\\dtypes.py:518: FutureWarning: Passing (type, 1) or '1type' as a synonym of type is deprecated; in a future version of numpy, it will be understood as (type, (1,)) / '(1,)type'.\n",
      "  _np_qint16 = np.dtype([(\"qint16\", np.int16, 1)])\n",
      "C:\\Users\\Sai Ram\\Anaconda3\\envs\\tf_1.4\\lib\\site-packages\\tensorflow\\python\\framework\\dtypes.py:519: FutureWarning: Passing (type, 1) or '1type' as a synonym of type is deprecated; in a future version of numpy, it will be understood as (type, (1,)) / '(1,)type'.\n",
      "  _np_quint16 = np.dtype([(\"quint16\", np.uint16, 1)])\n",
      "C:\\Users\\Sai Ram\\Anaconda3\\envs\\tf_1.4\\lib\\site-packages\\tensorflow\\python\\framework\\dtypes.py:520: FutureWarning: Passing (type, 1) or '1type' as a synonym of type is deprecated; in a future version of numpy, it will be understood as (type, (1,)) / '(1,)type'.\n",
      "  _np_qint32 = np.dtype([(\"qint32\", np.int32, 1)])\n",
      "C:\\Users\\Sai Ram\\Anaconda3\\envs\\tf_1.4\\lib\\site-packages\\tensorflow\\python\\framework\\dtypes.py:525: FutureWarning: Passing (type, 1) or '1type' as a synonym of type is deprecated; in a future version of numpy, it will be understood as (type, (1,)) / '(1,)type'.\n",
      "  np_resource = np.dtype([(\"resource\", np.ubyte, 1)])\n",
      "C:\\Users\\Sai Ram\\Anaconda3\\envs\\tf_1.4\\lib\\site-packages\\tensorboard\\compat\\tensorflow_stub\\dtypes.py:541: FutureWarning: Passing (type, 1) or '1type' as a synonym of type is deprecated; in a future version of numpy, it will be understood as (type, (1,)) / '(1,)type'.\n",
      "  _np_qint8 = np.dtype([(\"qint8\", np.int8, 1)])\n",
      "C:\\Users\\Sai Ram\\Anaconda3\\envs\\tf_1.4\\lib\\site-packages\\tensorboard\\compat\\tensorflow_stub\\dtypes.py:542: FutureWarning: Passing (type, 1) or '1type' as a synonym of type is deprecated; in a future version of numpy, it will be understood as (type, (1,)) / '(1,)type'.\n",
      "  _np_quint8 = np.dtype([(\"quint8\", np.uint8, 1)])\n",
      "C:\\Users\\Sai Ram\\Anaconda3\\envs\\tf_1.4\\lib\\site-packages\\tensorboard\\compat\\tensorflow_stub\\dtypes.py:543: FutureWarning: Passing (type, 1) or '1type' as a synonym of type is deprecated; in a future version of numpy, it will be understood as (type, (1,)) / '(1,)type'.\n",
      "  _np_qint16 = np.dtype([(\"qint16\", np.int16, 1)])\n",
      "C:\\Users\\Sai Ram\\Anaconda3\\envs\\tf_1.4\\lib\\site-packages\\tensorboard\\compat\\tensorflow_stub\\dtypes.py:544: FutureWarning: Passing (type, 1) or '1type' as a synonym of type is deprecated; in a future version of numpy, it will be understood as (type, (1,)) / '(1,)type'.\n",
      "  _np_quint16 = np.dtype([(\"quint16\", np.uint16, 1)])\n",
      "C:\\Users\\Sai Ram\\Anaconda3\\envs\\tf_1.4\\lib\\site-packages\\tensorboard\\compat\\tensorflow_stub\\dtypes.py:545: FutureWarning: Passing (type, 1) or '1type' as a synonym of type is deprecated; in a future version of numpy, it will be understood as (type, (1,)) / '(1,)type'.\n",
      "  _np_qint32 = np.dtype([(\"qint32\", np.int32, 1)])\n",
      "C:\\Users\\Sai Ram\\Anaconda3\\envs\\tf_1.4\\lib\\site-packages\\tensorboard\\compat\\tensorflow_stub\\dtypes.py:550: FutureWarning: Passing (type, 1) or '1type' as a synonym of type is deprecated; in a future version of numpy, it will be understood as (type, (1,)) / '(1,)type'.\n",
      "  np_resource = np.dtype([(\"resource\", np.ubyte, 1)])\n"
     ]
    }
   ],
   "metadata": {}
  },
  {
   "cell_type": "markdown",
   "source": [
    "First we'll load the text file and convert it into integers for our network to use. Here I'm creating a couple dictionaries to convert the characters to and from integers. Encoding the characters as integers makes it easier to use as input in the network."
   ],
   "metadata": {}
  },
  {
   "cell_type": "code",
   "execution_count": 2,
   "source": [
    "with open('anna.txt', 'r') as f:\r\n",
    "    text=f.read()\r\n",
    "vocab = sorted(set(text))\r\n",
    "vocab_to_int = {c: i for i, c in enumerate(vocab)}\r\n",
    "int_to_vocab = dict(enumerate(vocab))\r\n",
    "encoded = np.array([vocab_to_int[c] for c in text], dtype=np.int32)"
   ],
   "outputs": [],
   "metadata": {}
  },
  {
   "cell_type": "markdown",
   "source": [
    "Let's check out the first 100 characters, make sure everything is peachy. According to the [American Book Review](http://americanbookreview.org/100bestlines.asp), this is the 6th best first line of a book ever."
   ],
   "metadata": {}
  },
  {
   "cell_type": "code",
   "execution_count": 3,
   "source": [
    "text[:100]"
   ],
   "outputs": [
    {
     "output_type": "execute_result",
     "data": {
      "text/plain": [
       "'Chapter 1\\n\\n\\nHappy families are all alike; every unhappy family is unhappy in its own\\nway.\\n\\nEverythin'"
      ]
     },
     "metadata": {},
     "execution_count": 3
    }
   ],
   "metadata": {}
  },
  {
   "cell_type": "markdown",
   "source": [
    "And we can see the characters encoded as integers."
   ],
   "metadata": {}
  },
  {
   "cell_type": "code",
   "execution_count": 4,
   "source": [
    "encoded[:100]"
   ],
   "outputs": [
    {
     "output_type": "execute_result",
     "data": {
      "text/plain": [
       "array([31, 64, 57, 72, 76, 61, 74,  1, 16,  0,  0,  0, 36, 57, 72, 72, 81,\n",
       "        1, 62, 57, 69, 65, 68, 65, 61, 75,  1, 57, 74, 61,  1, 57, 68, 68,\n",
       "        1, 57, 68, 65, 67, 61, 26,  1, 61, 78, 61, 74, 81,  1, 77, 70, 64,\n",
       "       57, 72, 72, 81,  1, 62, 57, 69, 65, 68, 81,  1, 65, 75,  1, 77, 70,\n",
       "       64, 57, 72, 72, 81,  1, 65, 70,  1, 65, 76, 75,  1, 71, 79, 70,  0,\n",
       "       79, 57, 81, 13,  0,  0, 33, 78, 61, 74, 81, 76, 64, 65, 70])"
      ]
     },
     "metadata": {},
     "execution_count": 4
    }
   ],
   "metadata": {}
  },
  {
   "cell_type": "markdown",
   "source": [
    "Since the network is working with individual characters, it's similar to a classification problem in which we are trying to predict the next character from the previous text.  Here's how many 'classes' our network has to pick from."
   ],
   "metadata": {}
  },
  {
   "cell_type": "code",
   "execution_count": 1,
   "source": [
    "len(encoded)"
   ],
   "outputs": [
    {
     "output_type": "error",
     "ename": "NameError",
     "evalue": "name 'encoded' is not defined",
     "traceback": [
      "\u001b[1;31m---------------------------------------------------------------------------\u001b[0m",
      "\u001b[1;31mNameError\u001b[0m                                 Traceback (most recent call last)",
      "\u001b[1;32m<ipython-input-1-02f57fd67c39>\u001b[0m in \u001b[0;36m<module>\u001b[1;34m\u001b[0m\n\u001b[1;32m----> 1\u001b[1;33m \u001b[0mlen\u001b[0m\u001b[1;33m(\u001b[0m\u001b[0mencoded\u001b[0m\u001b[1;33m)\u001b[0m\u001b[1;33m\u001b[0m\u001b[1;33m\u001b[0m\u001b[0m\n\u001b[0m",
      "\u001b[1;31mNameError\u001b[0m: name 'encoded' is not defined"
     ]
    }
   ],
   "metadata": {}
  },
  {
   "cell_type": "markdown",
   "source": [
    "## Making training mini-batches\n",
    "\n",
    "Here is where we'll make our mini-batches for training. Remember that we want our batches to be multiple sequences of some desired number of sequence steps. Considering a simple example, our batches would look like this:\n",
    "\n",
    "<img src=\"assets/sequence_batching@1x.png\" width=500px>\n",
    "\n",
    "\n",
    "<br>\n",
    "\n",
    "We start with our text encoded as integers in one long array in `encoded`. Let's create a function that will give us an iterator for our batches. I like using [generator functions](https://jeffknupp.com/blog/2013/04/07/improve-your-python-yield-and-generators-explained/) to do this. Then we can pass `encoded` into this function and get our batch generator.\n",
    "\n",
    "The first thing we need to do is discard some of the text so we only have completely full batches. Each batch contains $N \\times M$ characters, where $N$ is the batch size (the number of sequences) and $M$ is the number of steps. Then, to get the total number of batches, $K$, we can make from the array `arr`, you divide the length of `arr` by the number of characters per batch. Once you know the number of batches, you can get the total number of characters to keep from `arr`, $N * M * K$.\n",
    "\n",
    "After that, we need to split `arr` into $N$ sequences. You can do this using `arr.reshape(size)` where `size` is a tuple containing the dimensions sizes of the reshaped array. We know we want $N$ sequences (`batch_size` below), let's make that the size of the first dimension. For the second dimension, you can use `-1` as a placeholder in the size, it'll fill up the array with the appropriate data for you. After this, you should have an array that is $N \\times (M * K)$.\n",
    "\n",
    "Now that we have this array, we can iterate through it to get our batches. The idea is each batch is a $N \\times M$ window on the $N \\times (M * K)$ array. For each subsequent batch, the window moves over by `n_steps`. We also want to create both the input and target arrays. Remember that the targets are the inputs shifted over one character. \n",
    "\n",
    "The way I like to do this window is use `range` to take steps of size `n_steps` from $0$ to `arr.shape[1]`, the total number of steps in each sequence. That way, the integers you get from `range` always point to the start of a batch, and each window is `n_steps` wide."
   ],
   "metadata": {}
  },
  {
   "cell_type": "code",
   "execution_count": 6,
   "source": [
    "def get_batches(arr, batch_size, n_steps):\r\n",
    "    '''Create a generator that returns batches of size\r\n",
    "       batch_size x n_steps from arr.\r\n",
    "       \r\n",
    "       Arguments\r\n",
    "       ---------\r\n",
    "       arr: Array you want to make batches from\r\n",
    "       batch_size: Batch size, the number of sequences per batch\r\n",
    "       n_steps: Number of sequence steps per batch\r\n",
    "    '''\r\n",
    "    # Get the number of characters per batch and number of batches we can make\r\n",
    "    chars_per_batch = batch_size * n_steps\r\n",
    "    n_batches = len(arr)//chars_per_batch\r\n",
    "    \r\n",
    "    # Keep only enough characters to make full batches\r\n",
    "    arr = arr[:n_batches * chars_per_batch]\r\n",
    "    \r\n",
    "    # Reshape into batch_size rows\r\n",
    "    arr = arr.reshape((batch_size, -1))\r\n",
    "    \r\n",
    "    for n in range(0, arr.shape[1], n_steps):\r\n",
    "        # The features\r\n",
    "        x = arr[:, n:n+n_steps]\r\n",
    "        # The targets, shifted by one\r\n",
    "        y_temp = arr[:, n+1:n+n_steps+1]\r\n",
    "        \r\n",
    "        # For the very last batch, y will be one character short at the end of \r\n",
    "        # the sequences which breaks things. To get around this, I'll make an \r\n",
    "        # array of the appropriate size first, of all zeros, then add the targets.\r\n",
    "        # This will introduce a small artifact in the last batch, but it won't matter.\r\n",
    "        y = np.zeros(x.shape, dtype=x.dtype)\r\n",
    "        y[:,:y_temp.shape[1]] = y_temp\r\n",
    "        \r\n",
    "        yield x, y"
   ],
   "outputs": [],
   "metadata": {}
  },
  {
   "cell_type": "code",
   "execution_count": null,
   "source": [],
   "outputs": [],
   "metadata": {}
  },
  {
   "cell_type": "markdown",
   "source": [
    "Now I'll make my data sets and we can check out what's going on here. Here I'm going to use a batch size of 10 and 50 sequence steps."
   ],
   "metadata": {}
  },
  {
   "cell_type": "code",
   "execution_count": 7,
   "source": [
    "batches = get_batches(encoded, 10, 50)\r\n",
    "x, y = next(batches)"
   ],
   "outputs": [],
   "metadata": {}
  },
  {
   "cell_type": "code",
   "execution_count": 8,
   "source": [
    "print('x\\n', x[:10, :10])\r\n",
    "print('\\ny\\n', y[:10, :10])"
   ],
   "outputs": [
    {
     "output_type": "stream",
     "name": "stdout",
     "text": [
      "x\n",
      " [[31 64 57 72 76 61 74  1 16  0]\n",
      " [ 1 57 69  1 70 71 76  1 63 71]\n",
      " [78 65 70 13  0  0  3 53 61 75]\n",
      " [70  1 60 77 74 65 70 63  1 64]\n",
      " [ 1 65 76  1 65 75 11  1 75 65]\n",
      " [ 1 37 76  1 79 57 75  0 71 70]\n",
      " [64 61 70  1 59 71 69 61  1 62]\n",
      " [26  1 58 77 76  1 70 71 79  1]\n",
      " [76  1 65 75 70  7 76 13  1 48]\n",
      " [ 1 75 57 65 60  1 76 71  1 64]]\n",
      "\n",
      "y\n",
      " [[64 57 72 76 61 74  1 16  0  0]\n",
      " [57 69  1 70 71 76  1 63 71 65]\n",
      " [65 70 13  0  0  3 53 61 75 11]\n",
      " [ 1 60 77 74 65 70 63  1 64 65]\n",
      " [65 76  1 65 75 11  1 75 65 74]\n",
      " [37 76  1 79 57 75  0 71 70 68]\n",
      " [61 70  1 59 71 69 61  1 62 71]\n",
      " [ 1 58 77 76  1 70 71 79  1 75]\n",
      " [ 1 65 75 70  7 76 13  1 48 64]\n",
      " [75 57 65 60  1 76 71  1 64 61]]\n"
     ]
    }
   ],
   "metadata": {}
  },
  {
   "cell_type": "markdown",
   "source": [
    "If you implemented `get_batches` correctly, the above output should look something like \n",
    "```\n",
    "x\n",
    " [[55 63 69 22  6 76 45  5 16 35]\n",
    " [ 5 69  1  5 12 52  6  5 56 52]\n",
    " [48 29 12 61 35 35  8 64 76 78]\n",
    " [12  5 24 39 45 29 12 56  5 63]\n",
    " [ 5 29  6  5 29 78 28  5 78 29]\n",
    " [ 5 13  6  5 36 69 78 35 52 12]\n",
    " [63 76 12  5 18 52  1 76  5 58]\n",
    " [34  5 73 39  6  5 12 52 36  5]\n",
    " [ 6  5 29 78 12 79  6 61  5 59]\n",
    " [ 5 78 69 29 24  5  6 52  5 63]]\n",
    "\n",
    "y\n",
    " [[63 69 22  6 76 45  5 16 35 35]\n",
    " [69  1  5 12 52  6  5 56 52 29]\n",
    " [29 12 61 35 35  8 64 76 78 28]\n",
    " [ 5 24 39 45 29 12 56  5 63 29]\n",
    " [29  6  5 29 78 28  5 78 29 45]\n",
    " [13  6  5 36 69 78 35 52 12 43]\n",
    " [76 12  5 18 52  1 76  5 58 52]\n",
    " [ 5 73 39  6  5 12 52 36  5 78]\n",
    " [ 5 29 78 12 79  6 61  5 59 63]\n",
    " [78 69 29 24  5  6 52  5 63 76]]\n",
    " ```\n",
    " although the exact numbers will be different. Check to make sure the data is shifted over one step for `y`."
   ],
   "metadata": {}
  },
  {
   "cell_type": "markdown",
   "source": [
    "## Building the model\n",
    "\n",
    "Below is where you'll build the network. We'll break it up into parts so it's easier to reason about each bit. Then we can connect them up into the whole network.\n",
    "\n",
    "<img src=\"assets/charRNN.png\" width=500px>\n",
    "\n",
    "\n",
    "### Inputs\n",
    "\n",
    "First off we'll create our input placeholders. As usual we need placeholders for the training data and the targets. We'll also create a placeholder for dropout layers called `keep_prob`."
   ],
   "metadata": {}
  },
  {
   "cell_type": "code",
   "execution_count": 9,
   "source": [
    "def build_inputs(batch_size, num_steps):\r\n",
    "    ''' Define placeholders for inputs, targets, and dropout \r\n",
    "    \r\n",
    "        Arguments\r\n",
    "        ---------\r\n",
    "        batch_size: Batch size, number of sequences per batch\r\n",
    "        num_steps: Number of sequence steps in a batch\r\n",
    "        \r\n",
    "    '''\r\n",
    "    # Declare placeholders we'll feed into the graph\r\n",
    "    inputs = tf.placeholder(tf.int32, [batch_size, num_steps], name='inputs')\r\n",
    "    targets = tf.placeholder(tf.int32, [batch_size, num_steps], name='targets')\r\n",
    "    \r\n",
    "    # Keep probability placeholder for drop out layers\r\n",
    "    keep_prob = tf.placeholder(tf.float32, name='keep_prob')\r\n",
    "    \r\n",
    "    return inputs, targets, keep_prob"
   ],
   "outputs": [],
   "metadata": {}
  },
  {
   "cell_type": "markdown",
   "source": [
    "### LSTM Cell\n",
    "\n",
    "Here we will create the LSTM cell we'll use in the hidden layer. We'll use this cell as a building block for the RNN. So we aren't actually defining the RNN here, just the type of cell we'll use in the hidden layer.\n",
    "\n",
    "We first create a basic LSTM cell with\n",
    "\n",
    "```python\n",
    "lstm = tf.contrib.rnn.BasicLSTMCell(num_units)\n",
    "```\n",
    "\n",
    "where `num_units` is the number of units in the hidden layers in the cell. Then we can add dropout by wrapping it with \n",
    "\n",
    "```python\n",
    "tf.contrib.rnn.DropoutWrapper(lstm, output_keep_prob=keep_prob)\n",
    "```\n",
    "You pass in a cell and it will automatically add dropout to the inputs or outputs. Finally, we can stack up the LSTM cells into layers with [`tf.contrib.rnn.MultiRNNCell`](https://www.tensorflow.org/versions/r1.0/api_docs/python/tf/contrib/rnn/MultiRNNCell). With this, you pass in a list of cells and it will send the output of one cell into the next cell. Previously with TensorFlow 1.0, you could do this\n",
    "\n",
    "```python\n",
    "tf.contrib.rnn.MultiRNNCell([cell]*num_layers)\n",
    "```\n",
    "\n",
    "This might look a little weird if you know Python well because this will create a list of the same `cell` object. However, TensorFlow 1.0 will create different weight matrices for all `cell` objects. But, starting with TensorFlow 1.1 you actually need to create new cell objects in the list. To get it to work in TensorFlow 1.1, it should look like\n",
    "\n",
    "```python\n",
    "def build_cell(num_units, keep_prob):\n",
    "    lstm = tf.contrib.rnn.BasicLSTMCell(num_units)\n",
    "    drop = tf.contrib.rnn.DropoutWrapper(lstm, output_keep_prob=keep_prob)\n",
    "    \n",
    "    return drop\n",
    "    \n",
    "tf.contrib.rnn.MultiRNNCell([build_cell(num_units, keep_prob) for _ in range(num_layers)])\n",
    "```\n",
    "\n",
    "Even though this is actually multiple LSTM cells stacked on each other, you can treat the multiple layers as one cell.\n",
    "\n",
    "We also need to create an initial cell state of all zeros. This can be done like so\n",
    "\n",
    "```python\n",
    "initial_state = cell.zero_state(batch_size, tf.float32)\n",
    "```\n",
    "\n",
    "Below, we implement the `build_lstm` function to create these LSTM cells and the initial state."
   ],
   "metadata": {}
  },
  {
   "cell_type": "code",
   "execution_count": 10,
   "source": [
    "def build_lstm(lstm_size, num_layers, batch_size, keep_prob):\r\n",
    "    ''' Build LSTM cell.\r\n",
    "    \r\n",
    "        Arguments\r\n",
    "        ---------\r\n",
    "        keep_prob: Scalar tensor (tf.placeholder) for the dropout keep probability\r\n",
    "        lstm_size: Size of the hidden layers in the LSTM cells\r\n",
    "        num_layers: Number of LSTM layers\r\n",
    "        batch_size: Batch size\r\n",
    "\r\n",
    "    '''\r\n",
    "    ### Build the LSTM Cell\r\n",
    "    \r\n",
    "    def build_cell(lstm_size, keep_prob):\r\n",
    "        # Use a basic LSTM cell\r\n",
    "        lstm = tf.contrib.rnn.BasicLSTMCell(lstm_size)\r\n",
    "        \r\n",
    "        # Add dropout to the cell\r\n",
    "        drop = tf.contrib.rnn.DropoutWrapper(lstm, output_keep_prob=keep_prob)\r\n",
    "        return drop\r\n",
    "    \r\n",
    "    \r\n",
    "    # Stack up multiple LSTM layers, for deep learning\r\n",
    "    cell = tf.contrib.rnn.MultiRNNCell([build_cell(lstm_size, keep_prob) for _ in range(num_layers)])\r\n",
    "    initial_state = cell.zero_state(batch_size, tf.float32)\r\n",
    "    \r\n",
    "    return cell, initial_state"
   ],
   "outputs": [],
   "metadata": {}
  },
  {
   "cell_type": "markdown",
   "source": [
    "### RNN Output\n",
    "\n",
    "Here we'll create the output layer. We need to connect the output of the RNN cells to a full connected layer with a softmax output. The softmax output gives us a probability distribution we can use to predict the next character.\n",
    "\n",
    "If our input has batch size $N$, number of steps $M$, and the hidden layer has $L$ hidden units, then the output is a 3D tensor with size $N \\times M \\times L$. The output of each LSTM cell has size $L$, we have $M$ of them, one for each sequence step, and we have $N$ sequences. So the total size is $N \\times M \\times L$.\n",
    "\n",
    "We are using the same fully connected layer, the same weights, for each of the outputs. Then, to make things easier, we should reshape the outputs into a 2D tensor with shape $(M * N) \\times L$. That is, one row for each sequence and step, where the values of each row are the output from the LSTM cells.\n",
    "\n",
    "One we have the outputs reshaped, we can do the matrix multiplication with the weights. We need to wrap the weight and bias variables in a variable scope with `tf.variable_scope(scope_name)` because there are weights being created in the LSTM cells. TensorFlow will throw an error if the weights created here have the same names as the weights created in the LSTM cells, which they will be default. To avoid this, we wrap the variables in a variable scope so we can give them unique names."
   ],
   "metadata": {}
  },
  {
   "cell_type": "code",
   "execution_count": 11,
   "source": [
    "def build_output(lstm_output, in_size, out_size):\r\n",
    "    ''' Build a softmax layer, return the softmax output and logits.\r\n",
    "    \r\n",
    "        Arguments\r\n",
    "        ---------\r\n",
    "        \r\n",
    "        x: Input tensor\r\n",
    "        in_size: Size of the input tensor, for example, size of the LSTM cells\r\n",
    "        out_size: Size of this softmax layer\r\n",
    "    \r\n",
    "    '''\r\n",
    "\r\n",
    "    # Reshape output so it's a bunch of rows, one row for each step for each sequence.\r\n",
    "    # That is, the shape should be batch_size*num_steps rows by lstm_size columns\r\n",
    "    seq_output = tf.concat(lstm_output, axis=1)\r\n",
    "    x = tf.reshape(seq_output, [-1, in_size])\r\n",
    "    \r\n",
    "    # Connect the RNN outputs to a softmax layer\r\n",
    "    with tf.variable_scope('softmax'):\r\n",
    "        softmax_w = tf.Variable(tf.truncated_normal((in_size, out_size), stddev=0.1))\r\n",
    "        softmax_b = tf.Variable(tf.zeros(out_size))\r\n",
    "    \r\n",
    "    # Since output is a bunch of rows of RNN cell outputs, logits will be a bunch\r\n",
    "    # of rows of logit outputs, one for each step and sequence\r\n",
    "    logits = tf.matmul(x, softmax_w) + softmax_b\r\n",
    "    \r\n",
    "    # Use softmax to get the probabilities for predicted characters\r\n",
    "    out = tf.nn.softmax(logits, name='predictions')\r\n",
    "    \r\n",
    "    return out, logits"
   ],
   "outputs": [],
   "metadata": {}
  },
  {
   "cell_type": "markdown",
   "source": [
    "### Training loss\n",
    "\n",
    "Next up is the training loss. We get the logits and targets and calculate the softmax cross-entropy loss. First we need to one-hot encode the targets, we're getting them as encoded characters. Then, reshape the one-hot targets so it's a 2D tensor with size $(M*N) \\times C$ where $C$ is the number of classes/characters we have. Remember that we reshaped the LSTM outputs and ran them through a fully connected layer with $C$ units. So our logits will also have size $(M*N) \\times C$.\n",
    "\n",
    "Then we run the logits and targets through `tf.nn.softmax_cross_entropy_with_logits` and find the mean to get the loss."
   ],
   "metadata": {}
  },
  {
   "cell_type": "code",
   "execution_count": 12,
   "source": [
    "def build_loss(logits, targets, lstm_size, num_classes):\r\n",
    "    ''' Calculate the loss from the logits and the targets.\r\n",
    "    \r\n",
    "        Arguments\r\n",
    "        ---------\r\n",
    "        logits: Logits from final fully connected layer\r\n",
    "        targets: Targets for supervised learning\r\n",
    "        lstm_size: Number of LSTM hidden units\r\n",
    "        num_classes: Number of classes in targets\r\n",
    "        \r\n",
    "    '''\r\n",
    "    \r\n",
    "    # One-hot encode targets and reshape to match logits, one row per batch_size per step\r\n",
    "    y_one_hot = tf.one_hot(targets, num_classes)\r\n",
    "    y_reshaped = tf.reshape(y_one_hot, logits.get_shape())\r\n",
    "    \r\n",
    "    # Softmax cross entropy loss\r\n",
    "    loss = tf.nn.softmax_cross_entropy_with_logits(logits=logits, labels=y_reshaped)\r\n",
    "    loss = tf.reduce_mean(loss)\r\n",
    "    return loss"
   ],
   "outputs": [],
   "metadata": {}
  },
  {
   "cell_type": "markdown",
   "source": [
    "### Optimizer\n",
    "\n",
    "Here we build the optimizer. Normal RNNs have have issues gradients exploding and disappearing. LSTMs fix the disappearance problem, but the gradients can still grow without bound. To fix this, we can clip the gradients above some threshold. That is, if a gradient is larger than that threshold, we set it to the threshold. This will ensure the gradients never grow overly large. Then we use an AdamOptimizer for the learning step."
   ],
   "metadata": {}
  },
  {
   "cell_type": "code",
   "execution_count": 13,
   "source": [
    "def build_optimizer(loss, learning_rate, grad_clip):\r\n",
    "    ''' Build optmizer for training, using gradient clipping.\r\n",
    "    \r\n",
    "        Arguments:\r\n",
    "        loss: Network loss\r\n",
    "        learning_rate: Learning rate for optimizer\r\n",
    "    \r\n",
    "    '''\r\n",
    "    \r\n",
    "    # Optimizer for training, using gradient clipping to control exploding gradients\r\n",
    "    tvars = tf.trainable_variables()\r\n",
    "    grads, _ = tf.clip_by_global_norm(tf.gradients(loss, tvars), grad_clip)\r\n",
    "    train_op = tf.train.AdamOptimizer(learning_rate)\r\n",
    "    optimizer = train_op.apply_gradients(zip(grads, tvars))\r\n",
    "    \r\n",
    "    return optimizer"
   ],
   "outputs": [],
   "metadata": {}
  },
  {
   "cell_type": "markdown",
   "source": [
    "### Build the network\n",
    "\n",
    "Now we can put all the pieces together and build a class for the network. To actually run data through the LSTM cells, we will use [`tf.nn.dynamic_rnn`](https://www.tensorflow.org/versions/r1.0/api_docs/python/tf/nn/dynamic_rnn). This function will pass the hidden and cell states across LSTM cells appropriately for us. It returns the outputs for each LSTM cell at each step for each sequence in the mini-batch. It also gives us the final LSTM state. We want to save this state as `final_state` so we can pass it to the first LSTM cell in the the next mini-batch run. For `tf.nn.dynamic_rnn`, we pass in the cell and initial state we get from `build_lstm`, as well as our input sequences. Also, we need to one-hot encode the inputs before going into the RNN. "
   ],
   "metadata": {}
  },
  {
   "cell_type": "code",
   "execution_count": 14,
   "source": [
    "class CharRNN:\r\n",
    "    \r\n",
    "    def __init__(self, num_classes, batch_size=64, num_steps=50, \r\n",
    "                       lstm_size=128, num_layers=2, learning_rate=0.001, \r\n",
    "                       grad_clip=5, sampling=False):\r\n",
    "    \r\n",
    "        # When we're using this network for sampling later, we'll be passing in\r\n",
    "        # one character at a time, so providing an option for that\r\n",
    "        if sampling == True:\r\n",
    "            batch_size, num_steps = 1, 1\r\n",
    "        else:\r\n",
    "            batch_size, num_steps = batch_size, num_steps\r\n",
    "\r\n",
    "        tf.reset_default_graph()\r\n",
    "        \r\n",
    "        # Build the input placeholder tensors\r\n",
    "        self.inputs, self.targets, self.keep_prob = build_inputs(batch_size, num_steps)\r\n",
    "\r\n",
    "        # Build the LSTM cell\r\n",
    "        cell, self.initial_state = build_lstm(lstm_size, num_layers, batch_size, self.keep_prob)\r\n",
    "\r\n",
    "        ### Run the data through the RNN layers\r\n",
    "        # First, one-hot encode the input tokens\r\n",
    "        x_one_hot = tf.one_hot(self.inputs, num_classes)\r\n",
    "        \r\n",
    "        # Run each sequence step through the RNN and collect the outputs\r\n",
    "        outputs, state = tf.nn.dynamic_rnn(cell, x_one_hot, initial_state=self.initial_state)\r\n",
    "        self.final_state = state\r\n",
    "        \r\n",
    "        # Get softmax predictions and logits\r\n",
    "        self.prediction, self.logits = build_output(outputs, lstm_size, num_classes)\r\n",
    "        \r\n",
    "        # Loss and optimizer (with gradient clipping)\r\n",
    "        self.loss = build_loss(self.logits, self.targets, lstm_size, num_classes)\r\n",
    "        self.optimizer = build_optimizer(self.loss, learning_rate, grad_clip)"
   ],
   "outputs": [],
   "metadata": {}
  },
  {
   "cell_type": "markdown",
   "source": [
    "## Hyperparameters\n",
    "\n",
    "Here I'm defining the hyperparameters for the network. \n",
    "\n",
    "* `batch_size` - Number of sequences running through the network in one pass.\n",
    "* `num_steps` - Number of characters in the sequence the network is trained on. Larger is better typically, the network will learn more long range dependencies. But it takes longer to train. 100 is typically a good number here.\n",
    "* `lstm_size` - The number of units in the hidden layers.\n",
    "* `num_layers` - Number of hidden LSTM layers to use\n",
    "* `learning_rate` - Learning rate for training\n",
    "* `keep_prob` - The dropout keep probability when training. If you're network is overfitting, try decreasing this.\n",
    "\n",
    "Here's some good advice from Andrej Karpathy on training the network. I'm going to copy it in here for your benefit, but also link to [where it originally came from](https://github.com/karpathy/char-rnn#tips-and-tricks).\n",
    "\n",
    "> ## Tips and Tricks\n",
    "\n",
    ">### Monitoring Validation Loss vs. Training Loss\n",
    ">If you're somewhat new to Machine Learning or Neural Networks it can take a bit of expertise to get good models. The most important quantity to keep track of is the difference between your training loss (printed during training) and the validation loss (printed once in a while when the RNN is run on the validation data (by default every 1000 iterations)). In particular:\n",
    "\n",
    "> - If your training loss is much lower than validation loss then this means the network might be **overfitting**. Solutions to this are to decrease your network size, or to increase dropout. For example you could try dropout of 0.5 and so on.\n",
    "> - If your training/validation loss are about equal then your model is **underfitting**. Increase the size of your model (either number of layers or the raw number of neurons per layer)\n",
    "\n",
    "> ### Approximate number of parameters\n",
    "\n",
    "> The two most important parameters that control the model are `lstm_size` and `num_layers`. I would advise that you always use `num_layers` of either 2/3. The `lstm_size` can be adjusted based on how much data you have. The two important quantities to keep track of here are:\n",
    "\n",
    "> - The number of parameters in your model. This is printed when you start training.\n",
    "> - The size of your dataset. 1MB file is approximately 1 million characters.\n",
    "\n",
    ">These two should be about the same order of magnitude. It's a little tricky to tell. Here are some examples:\n",
    "\n",
    "> - I have a 100MB dataset and I'm using the default parameter settings (which currently print 150K parameters). My data size is significantly larger (100 mil >> 0.15 mil), so I expect to heavily underfit. I am thinking I can comfortably afford to make `lstm_size` larger.\n",
    "> - I have a 10MB dataset and running a 10 million parameter model. I'm slightly nervous and I'm carefully monitoring my validation loss. If it's larger than my training loss then I may want to try to increase dropout a bit and see if that helps the validation loss.\n",
    "\n",
    "> ### Best models strategy\n",
    "\n",
    ">The winning strategy to obtaining very good models (if you have the compute time) is to always err on making the network larger (as large as you're willing to wait for it to compute) and then try different dropout values (between 0,1). Whatever model has the best validation performance (the loss, written in the checkpoint filename, low is good) is the one you should use in the end.\n",
    "\n",
    ">It is very common in deep learning to run many different models with many different hyperparameter settings, and in the end take whatever checkpoint gave the best validation performance.\n",
    "\n",
    ">By the way, the size of your training and validation splits are also parameters. Make sure you have a decent amount of data in your validation set or otherwise the validation performance will be noisy and not very informative.\n"
   ],
   "metadata": {}
  },
  {
   "cell_type": "code",
   "execution_count": 15,
   "source": [
    "batch_size = 100        # Sequences per batch\r\n",
    "num_steps = 100         # Number of sequence steps per batch\r\n",
    "lstm_size = 512         # Size of hidden layers in LSTMs\r\n",
    "num_layers = 2          # Number of LSTM layers\r\n",
    "learning_rate = 0.001   # Learning rate\r\n",
    "keep_prob = 0.5         # Dropout keep probability"
   ],
   "outputs": [],
   "metadata": {}
  },
  {
   "cell_type": "markdown",
   "source": [
    "## Time for training\n",
    "\n",
    "This is typical training code, passing inputs and targets into the network, then running the optimizer. Here we also get back the final LSTM state for the mini-batch. Then, we pass that state back into the network so the next batch can continue the state from the previous batch. And every so often (set by `save_every_n`) I save a checkpoint.\n",
    "\n",
    "Here I'm saving checkpoints with the format\n",
    "\n",
    "`i{iteration number}_l{# hidden layer units}.ckpt`"
   ],
   "metadata": {}
  },
  {
   "cell_type": "code",
   "execution_count": 16,
   "source": [
    "epochs = 20\r\n",
    "# Print losses every N interations\r\n",
    "print_every_n = 50\r\n",
    "\r\n",
    "# Save every N iterations\r\n",
    "save_every_n = 200\r\n",
    "\r\n",
    "model = CharRNN(len(vocab), batch_size=batch_size, num_steps=num_steps,\r\n",
    "                lstm_size=lstm_size, num_layers=num_layers, \r\n",
    "                learning_rate=learning_rate)\r\n",
    "\r\n",
    "saver = tf.train.Saver(max_to_keep=100)\r\n",
    "with tf.Session() as sess:\r\n",
    "    sess.run(tf.global_variables_initializer())\r\n",
    "    \r\n",
    "    # Use the line below to load a checkpoint and resume training\r\n",
    "    #saver.restore(sess, 'checkpoints/______.ckpt')\r\n",
    "    counter = 0\r\n",
    "    for e in range(epochs):\r\n",
    "        # Train network\r\n",
    "        new_state = sess.run(model.initial_state)\r\n",
    "        loss = 0\r\n",
    "        for x, y in get_batches(encoded, batch_size, num_steps):\r\n",
    "            counter += 1\r\n",
    "            start = time.time()\r\n",
    "            feed = {model.inputs: x,\r\n",
    "                    model.targets: y,\r\n",
    "                    model.keep_prob: keep_prob,\r\n",
    "                    model.initial_state: new_state}\r\n",
    "            batch_loss, new_state, _ = sess.run([model.loss, \r\n",
    "                                                 model.final_state, \r\n",
    "                                                 model.optimizer], \r\n",
    "                                                 feed_dict=feed)\r\n",
    "            if (counter % print_every_n == 0):\r\n",
    "                end = time.time()\r\n",
    "                print('Epoch: {}/{}... '.format(e+1, epochs),\r\n",
    "                      'Training Step: {}... '.format(counter),\r\n",
    "                      'Training loss: {:.4f}... '.format(batch_loss),\r\n",
    "                      '{:.4f} sec/batch'.format((end-start)))\r\n",
    "        \r\n",
    "            if (counter % save_every_n == 0):\r\n",
    "                saver.save(sess, \"checkpoints/i{}_l{}.ckpt\".format(counter, lstm_size))\r\n",
    "    \r\n",
    "    saver.save(sess, \"checkpoints/i{}_l{}.ckpt\".format(counter, lstm_size))"
   ],
   "outputs": [
    {
     "output_type": "stream",
     "name": "stdout",
     "text": [
      "WARNING:tensorflow:\n",
      "The TensorFlow contrib module will not be included in TensorFlow 2.0.\n",
      "For more information, please see:\n",
      "  * https://github.com/tensorflow/community/blob/master/rfcs/20180907-contrib-sunset.md\n",
      "  * https://github.com/tensorflow/addons\n",
      "  * https://github.com/tensorflow/io (for I/O related ops)\n",
      "If you depend on functionality not listed there, please file an issue.\n",
      "\n",
      "WARNING:tensorflow:From <ipython-input-10-6a33ab0f9492>:16: BasicLSTMCell.__init__ (from tensorflow.python.ops.rnn_cell_impl) is deprecated and will be removed in a future version.\n",
      "Instructions for updating:\n",
      "This class is equivalent as tf.keras.layers.LSTMCell, and will be replaced by that in Tensorflow 2.0.\n",
      "WARNING:tensorflow:From <ipython-input-10-6a33ab0f9492>:24: MultiRNNCell.__init__ (from tensorflow.python.ops.rnn_cell_impl) is deprecated and will be removed in a future version.\n",
      "Instructions for updating:\n",
      "This class is equivalent as tf.keras.layers.StackedRNNCells, and will be replaced by that in Tensorflow 2.0.\n",
      "WARNING:tensorflow:From <ipython-input-14-85de622c798a>:27: dynamic_rnn (from tensorflow.python.ops.rnn) is deprecated and will be removed in a future version.\n",
      "Instructions for updating:\n",
      "Please use `keras.layers.RNN(cell)`, which is equivalent to this API\n",
      "WARNING:tensorflow:Entity <bound method MultiRNNCell.call of <tensorflow.python.ops.rnn_cell_impl.MultiRNNCell object at 0x000001FBAEAC4400>> could not be transformed and will be executed as-is. Please report this to the AutgoGraph team. When filing the bug, set the verbosity to 10 (on Linux, `export AUTOGRAPH_VERBOSITY=10`) and attach the full output. Cause: converting <bound method MultiRNNCell.call of <tensorflow.python.ops.rnn_cell_impl.MultiRNNCell object at 0x000001FBAEAC4400>>: AttributeError: module 'gast' has no attribute 'Index'\n",
      "WARNING: Entity <bound method MultiRNNCell.call of <tensorflow.python.ops.rnn_cell_impl.MultiRNNCell object at 0x000001FBAEAC4400>> could not be transformed and will be executed as-is. Please report this to the AutgoGraph team. When filing the bug, set the verbosity to 10 (on Linux, `export AUTOGRAPH_VERBOSITY=10`) and attach the full output. Cause: converting <bound method MultiRNNCell.call of <tensorflow.python.ops.rnn_cell_impl.MultiRNNCell object at 0x000001FBAEAC4400>>: AttributeError: module 'gast' has no attribute 'Index'\n",
      "WARNING:tensorflow:From C:\\Users\\Sai Ram\\Anaconda3\\envs\\tf_1.4\\lib\\site-packages\\tensorflow\\python\\ops\\init_ops.py:1251: calling VarianceScaling.__init__ (from tensorflow.python.ops.init_ops) with dtype is deprecated and will be removed in a future version.\n",
      "Instructions for updating:\n",
      "Call initializer instance with the dtype argument instead of passing it to the constructor\n",
      "WARNING:tensorflow:From C:\\Users\\Sai Ram\\Anaconda3\\envs\\tf_1.4\\lib\\site-packages\\tensorflow\\python\\ops\\rnn_cell_impl.py:738: calling Zeros.__init__ (from tensorflow.python.ops.init_ops) with dtype is deprecated and will be removed in a future version.\n",
      "Instructions for updating:\n",
      "Call initializer instance with the dtype argument instead of passing it to the constructor\n",
      "WARNING:tensorflow:Entity <bound method BasicLSTMCell.call of <tensorflow.python.ops.rnn_cell_impl.BasicLSTMCell object at 0x000001FBA98141D0>> could not be transformed and will be executed as-is. Please report this to the AutgoGraph team. When filing the bug, set the verbosity to 10 (on Linux, `export AUTOGRAPH_VERBOSITY=10`) and attach the full output. Cause: converting <bound method BasicLSTMCell.call of <tensorflow.python.ops.rnn_cell_impl.BasicLSTMCell object at 0x000001FBA98141D0>>: AssertionError: Bad argument number for Name: 3, expecting 4\n",
      "WARNING: Entity <bound method BasicLSTMCell.call of <tensorflow.python.ops.rnn_cell_impl.BasicLSTMCell object at 0x000001FBA98141D0>> could not be transformed and will be executed as-is. Please report this to the AutgoGraph team. When filing the bug, set the verbosity to 10 (on Linux, `export AUTOGRAPH_VERBOSITY=10`) and attach the full output. Cause: converting <bound method BasicLSTMCell.call of <tensorflow.python.ops.rnn_cell_impl.BasicLSTMCell object at 0x000001FBA98141D0>>: AssertionError: Bad argument number for Name: 3, expecting 4\n",
      "WARNING:tensorflow:Entity <bound method BasicLSTMCell.call of <tensorflow.python.ops.rnn_cell_impl.BasicLSTMCell object at 0x000001FBAEAC4358>> could not be transformed and will be executed as-is. Please report this to the AutgoGraph team. When filing the bug, set the verbosity to 10 (on Linux, `export AUTOGRAPH_VERBOSITY=10`) and attach the full output. Cause: converting <bound method BasicLSTMCell.call of <tensorflow.python.ops.rnn_cell_impl.BasicLSTMCell object at 0x000001FBAEAC4358>>: AssertionError: Bad argument number for Name: 3, expecting 4\n",
      "WARNING: Entity <bound method BasicLSTMCell.call of <tensorflow.python.ops.rnn_cell_impl.BasicLSTMCell object at 0x000001FBAEAC4358>> could not be transformed and will be executed as-is. Please report this to the AutgoGraph team. When filing the bug, set the verbosity to 10 (on Linux, `export AUTOGRAPH_VERBOSITY=10`) and attach the full output. Cause: converting <bound method BasicLSTMCell.call of <tensorflow.python.ops.rnn_cell_impl.BasicLSTMCell object at 0x000001FBAEAC4358>>: AssertionError: Bad argument number for Name: 3, expecting 4\n",
      "WARNING:tensorflow:From <ipython-input-12-6d5964af2bdd>:18: softmax_cross_entropy_with_logits (from tensorflow.python.ops.nn_ops) is deprecated and will be removed in a future version.\n",
      "Instructions for updating:\n",
      "\n",
      "Future major versions of TensorFlow will allow gradients to flow\n",
      "into the labels input on backprop by default.\n",
      "\n",
      "See `tf.nn.softmax_cross_entropy_with_logits_v2`.\n",
      "\n",
      "WARNING:tensorflow:From C:\\Users\\Sai Ram\\Anaconda3\\envs\\tf_1.4\\lib\\site-packages\\tensorflow\\python\\ops\\clip_ops.py:286: add_dispatch_support.<locals>.wrapper (from tensorflow.python.ops.array_ops) is deprecated and will be removed in a future version.\n",
      "Instructions for updating:\n",
      "Use tf.where in 2.0, which has the same broadcast rule as np.where\n",
      "Epoch: 1/20...  Training Step: 50...  Training loss: 3.1783...  2.4058 sec/batch\n",
      "Epoch: 1/20...  Training Step: 100...  Training loss: 3.0942...  2.3370 sec/batch\n",
      "Epoch: 1/20...  Training Step: 150...  Training loss: 2.7992...  2.6337 sec/batch\n",
      "Epoch: 2/20...  Training Step: 200...  Training loss: 2.4833...  2.4156 sec/batch\n",
      "Epoch: 2/20...  Training Step: 250...  Training loss: 2.3764...  2.2997 sec/batch\n",
      "Epoch: 2/20...  Training Step: 300...  Training loss: 2.2647...  2.3160 sec/batch\n",
      "Epoch: 2/20...  Training Step: 350...  Training loss: 2.2164...  2.3404 sec/batch\n",
      "Epoch: 3/20...  Training Step: 400...  Training loss: 2.0913...  2.2765 sec/batch\n",
      "Epoch: 3/20...  Training Step: 450...  Training loss: 2.0198...  2.2643 sec/batch\n",
      "Epoch: 3/20...  Training Step: 500...  Training loss: 1.9586...  2.3063 sec/batch\n",
      "Epoch: 3/20...  Training Step: 550...  Training loss: 1.9297...  2.3049 sec/batch\n",
      "Epoch: 4/20...  Training Step: 600...  Training loss: 1.8219...  2.2910 sec/batch\n",
      "Epoch: 4/20...  Training Step: 650...  Training loss: 1.8330...  2.2916 sec/batch\n",
      "Epoch: 4/20...  Training Step: 700...  Training loss: 1.7834...  2.2507 sec/batch\n",
      "Epoch: 4/20...  Training Step: 750...  Training loss: 1.7458...  2.2644 sec/batch\n",
      "Epoch: 5/20...  Training Step: 800...  Training loss: 1.7102...  2.3015 sec/batch\n",
      "Epoch: 5/20...  Training Step: 850...  Training loss: 1.6717...  2.3000 sec/batch\n",
      "Epoch: 5/20...  Training Step: 900...  Training loss: 1.6611...  2.3103 sec/batch\n",
      "Epoch: 5/20...  Training Step: 950...  Training loss: 1.6330...  2.2360 sec/batch\n",
      "Epoch: 6/20...  Training Step: 1000...  Training loss: 1.6070...  2.3144 sec/batch\n",
      "Epoch: 6/20...  Training Step: 1050...  Training loss: 1.6124...  2.2360 sec/batch\n",
      "Epoch: 6/20...  Training Step: 1100...  Training loss: 1.5703...  2.2460 sec/batch\n",
      "Epoch: 6/20...  Training Step: 1150...  Training loss: 1.5655...  2.2745 sec/batch\n",
      "Epoch: 7/20...  Training Step: 1200...  Training loss: 1.5176...  2.2664 sec/batch\n",
      "Epoch: 7/20...  Training Step: 1250...  Training loss: 1.5748...  2.2236 sec/batch\n",
      "Epoch: 7/20...  Training Step: 1300...  Training loss: 1.4882...  2.2371 sec/batch\n",
      "Epoch: 7/20...  Training Step: 1350...  Training loss: 1.4814...  2.2819 sec/batch\n",
      "Epoch: 8/20...  Training Step: 1400...  Training loss: 1.4885...  2.4824 sec/batch\n",
      "Epoch: 8/20...  Training Step: 1450...  Training loss: 1.4596...  2.2886 sec/batch\n",
      "Epoch: 8/20...  Training Step: 1500...  Training loss: 1.4283...  2.2672 sec/batch\n",
      "Epoch: 8/20...  Training Step: 1550...  Training loss: 1.4241...  2.6744 sec/batch\n",
      "Epoch: 9/20...  Training Step: 1600...  Training loss: 1.3967...  2.3534 sec/batch\n",
      "Epoch: 9/20...  Training Step: 1650...  Training loss: 1.4134...  2.4722 sec/batch\n",
      "Epoch: 9/20...  Training Step: 1700...  Training loss: 1.3595...  2.2702 sec/batch\n",
      "Epoch: 9/20...  Training Step: 1750...  Training loss: 1.3781...  2.2258 sec/batch\n",
      "Epoch: 10/20...  Training Step: 1800...  Training loss: 1.3990...  2.2731 sec/batch\n",
      "Epoch: 10/20...  Training Step: 1850...  Training loss: 1.3505...  2.2300 sec/batch\n",
      "Epoch: 10/20...  Training Step: 1900...  Training loss: 1.3466...  2.4719 sec/batch\n",
      "Epoch: 10/20...  Training Step: 1950...  Training loss: 1.4159...  3.0386 sec/batch\n",
      "Epoch: 11/20...  Training Step: 2000...  Training loss: 1.3557...  2.1836 sec/batch\n",
      "Epoch: 11/20...  Training Step: 2050...  Training loss: 1.3159...  2.2204 sec/batch\n",
      "Epoch: 11/20...  Training Step: 2100...  Training loss: 1.3082...  2.2346 sec/batch\n",
      "Epoch: 11/20...  Training Step: 2150...  Training loss: 1.3191...  2.3512 sec/batch\n",
      "Epoch: 12/20...  Training Step: 2200...  Training loss: 1.3117...  2.2302 sec/batch\n",
      "Epoch: 12/20...  Training Step: 2250...  Training loss: 1.3160...  2.3277 sec/batch\n",
      "Epoch: 12/20...  Training Step: 2300...  Training loss: 1.2483...  2.3069 sec/batch\n",
      "Epoch: 12/20...  Training Step: 2350...  Training loss: 1.2668...  2.2536 sec/batch\n",
      "Epoch: 13/20...  Training Step: 2400...  Training loss: 1.2839...  2.2741 sec/batch\n",
      "Epoch: 13/20...  Training Step: 2450...  Training loss: 1.2493...  2.2666 sec/batch\n",
      "Epoch: 13/20...  Training Step: 2500...  Training loss: 1.2656...  2.2865 sec/batch\n",
      "Epoch: 13/20...  Training Step: 2550...  Training loss: 1.2641...  2.3118 sec/batch\n",
      "Epoch: 14/20...  Training Step: 2600...  Training loss: 1.2276...  2.3324 sec/batch\n",
      "Epoch: 14/20...  Training Step: 2650...  Training loss: 1.2639...  2.3326 sec/batch\n",
      "Epoch: 14/20...  Training Step: 2700...  Training loss: 1.2055...  2.3213 sec/batch\n",
      "Epoch: 14/20...  Training Step: 2750...  Training loss: 1.2162...  2.2477 sec/batch\n",
      "Epoch: 15/20...  Training Step: 2800...  Training loss: 1.2651...  2.2898 sec/batch\n",
      "Epoch: 15/20...  Training Step: 2850...  Training loss: 1.2197...  2.2897 sec/batch\n",
      "Epoch: 15/20...  Training Step: 2900...  Training loss: 1.2291...  2.2893 sec/batch\n",
      "Epoch: 15/20...  Training Step: 2950...  Training loss: 1.2524...  2.3024 sec/batch\n",
      "Epoch: 16/20...  Training Step: 3000...  Training loss: 1.2300...  2.2583 sec/batch\n",
      "Epoch: 16/20...  Training Step: 3050...  Training loss: 1.2137...  2.2507 sec/batch\n",
      "Epoch: 16/20...  Training Step: 3100...  Training loss: 1.1603...  2.3253 sec/batch\n",
      "Epoch: 16/20...  Training Step: 3150...  Training loss: 1.1858...  2.2858 sec/batch\n",
      "Epoch: 17/20...  Training Step: 3200...  Training loss: 1.1819...  2.2770 sec/batch\n",
      "Epoch: 17/20...  Training Step: 3250...  Training loss: 1.2053...  2.2605 sec/batch\n",
      "Epoch: 17/20...  Training Step: 3300...  Training loss: 1.1833...  2.2600 sec/batch\n",
      "Epoch: 17/20...  Training Step: 3350...  Training loss: 1.2102...  2.2970 sec/batch\n",
      "Epoch: 18/20...  Training Step: 3400...  Training loss: 1.2033...  2.2907 sec/batch\n",
      "Epoch: 18/20...  Training Step: 3450...  Training loss: 1.2054...  2.2878 sec/batch\n",
      "Epoch: 18/20...  Training Step: 3500...  Training loss: 1.1867...  2.2809 sec/batch\n",
      "Epoch: 18/20...  Training Step: 3550...  Training loss: 1.1829...  2.2985 sec/batch\n",
      "Epoch: 19/20...  Training Step: 3600...  Training loss: 1.1793...  2.2648 sec/batch\n",
      "Epoch: 19/20...  Training Step: 3650...  Training loss: 1.1696...  2.2421 sec/batch\n",
      "Epoch: 19/20...  Training Step: 3700...  Training loss: 1.1765...  2.2726 sec/batch\n",
      "Epoch: 19/20...  Training Step: 3750...  Training loss: 1.1518...  2.2854 sec/batch\n",
      "Epoch: 20/20...  Training Step: 3800...  Training loss: 1.1337...  2.2721 sec/batch\n",
      "Epoch: 20/20...  Training Step: 3850...  Training loss: 1.1590...  2.2688 sec/batch\n",
      "Epoch: 20/20...  Training Step: 3900...  Training loss: 1.1930...  2.2648 sec/batch\n",
      "Epoch: 20/20...  Training Step: 3950...  Training loss: 1.1453...  2.4029 sec/batch\n"
     ]
    }
   ],
   "metadata": {
    "scrolled": true
   }
  },
  {
   "cell_type": "markdown",
   "source": [
    "#### Saved checkpoints\n",
    "\n",
    "Read up on saving and loading checkpoints here: https://www.tensorflow.org/programmers_guide/variables"
   ],
   "metadata": {}
  },
  {
   "cell_type": "code",
   "execution_count": 17,
   "source": [
    "tf.train.get_checkpoint_state('checkpoints')"
   ],
   "outputs": [
    {
     "output_type": "execute_result",
     "data": {
      "text/plain": [
       "model_checkpoint_path: \"checkpoints\\\\i3960_l512.ckpt\"\n",
       "all_model_checkpoint_paths: \"checkpoints\\\\i200_l512.ckpt\"\n",
       "all_model_checkpoint_paths: \"checkpoints\\\\i400_l512.ckpt\"\n",
       "all_model_checkpoint_paths: \"checkpoints\\\\i600_l512.ckpt\"\n",
       "all_model_checkpoint_paths: \"checkpoints\\\\i800_l512.ckpt\"\n",
       "all_model_checkpoint_paths: \"checkpoints\\\\i1000_l512.ckpt\"\n",
       "all_model_checkpoint_paths: \"checkpoints\\\\i1200_l512.ckpt\"\n",
       "all_model_checkpoint_paths: \"checkpoints\\\\i1400_l512.ckpt\"\n",
       "all_model_checkpoint_paths: \"checkpoints\\\\i1600_l512.ckpt\"\n",
       "all_model_checkpoint_paths: \"checkpoints\\\\i1800_l512.ckpt\"\n",
       "all_model_checkpoint_paths: \"checkpoints\\\\i2000_l512.ckpt\"\n",
       "all_model_checkpoint_paths: \"checkpoints\\\\i2200_l512.ckpt\"\n",
       "all_model_checkpoint_paths: \"checkpoints\\\\i2400_l512.ckpt\"\n",
       "all_model_checkpoint_paths: \"checkpoints\\\\i2600_l512.ckpt\"\n",
       "all_model_checkpoint_paths: \"checkpoints\\\\i2800_l512.ckpt\"\n",
       "all_model_checkpoint_paths: \"checkpoints\\\\i3000_l512.ckpt\"\n",
       "all_model_checkpoint_paths: \"checkpoints\\\\i3200_l512.ckpt\"\n",
       "all_model_checkpoint_paths: \"checkpoints\\\\i3400_l512.ckpt\"\n",
       "all_model_checkpoint_paths: \"checkpoints\\\\i3600_l512.ckpt\"\n",
       "all_model_checkpoint_paths: \"checkpoints\\\\i3800_l512.ckpt\"\n",
       "all_model_checkpoint_paths: \"checkpoints\\\\i3960_l512.ckpt\""
      ]
     },
     "metadata": {},
     "execution_count": 17
    }
   ],
   "metadata": {}
  },
  {
   "cell_type": "markdown",
   "source": [
    "## Sampling\n",
    "\n",
    "Now that the network is trained, we'll can use it to generate new text. The idea is that we pass in a character, then the network will predict the next character. We can use the new one, to predict the next one. And we keep doing this to generate all new text. I also included some functionality to prime the network with some text by passing in a string and building up a state from that.\n",
    "\n",
    "The network gives us predictions for each character. To reduce noise and make things a little less random, I'm going to only choose a new character from the top N most likely characters.\n",
    "\n"
   ],
   "metadata": {}
  },
  {
   "cell_type": "code",
   "execution_count": 25,
   "source": [
    "def pick_top_n(preds, vocab_size, top_n=5):\r\n",
    "    p = np.squeeze(preds)\r\n",
    "    p[np.argsort(p)[:-top_n]] = 0\r\n",
    "    p = p / np.sum(p)\r\n",
    "    c = np.random.choice(vocab_size, 1, p=p)[0]\r\n",
    "    return c"
   ],
   "outputs": [],
   "metadata": {}
  },
  {
   "cell_type": "code",
   "execution_count": 26,
   "source": [
    "def sample(checkpoint, n_samples, lstm_size, vocab_size, prime=\"The \"):\r\n",
    "    samples = [c for c in prime]\r\n",
    "    model = CharRNN(len(vocab), lstm_size=lstm_size, sampling=True)\r\n",
    "    saver = tf.train.Saver()\r\n",
    "    with tf.Session() as sess:\r\n",
    "        saver.restore(sess, checkpoint)\r\n",
    "        new_state = sess.run(model.initial_state)\r\n",
    "        for c in prime:\r\n",
    "            x = np.zeros((1, 1))\r\n",
    "            x[0,0] = vocab_to_int[c]\r\n",
    "            feed = {model.inputs: x,\r\n",
    "                    model.keep_prob: 1.,\r\n",
    "                    model.initial_state: new_state}\r\n",
    "            preds, new_state = sess.run([model.prediction, model.final_state], \r\n",
    "                                         feed_dict=feed)\r\n",
    "\r\n",
    "        c = pick_top_n(preds, len(vocab))\r\n",
    "        samples.append(int_to_vocab[c])\r\n",
    "\r\n",
    "        for i in range(n_samples):\r\n",
    "            x[0,0] = c\r\n",
    "            feed = {model.inputs: x,\r\n",
    "                    model.keep_prob: 1.,\r\n",
    "                    model.initial_state: new_state}\r\n",
    "            preds, new_state = sess.run([model.prediction, model.final_state], \r\n",
    "                                         feed_dict=feed)\r\n",
    "\r\n",
    "            c = pick_top_n(preds, len(vocab))\r\n",
    "            samples.append(int_to_vocab[c])\r\n",
    "        \r\n",
    "    return ''.join(samples)"
   ],
   "outputs": [],
   "metadata": {}
  },
  {
   "cell_type": "markdown",
   "source": [
    "Here, pass in the path to a checkpoint and sample from the network."
   ],
   "metadata": {}
  },
  {
   "cell_type": "code",
   "execution_count": 27,
   "source": [
    "tf.train.latest_checkpoint('checkpoints')"
   ],
   "outputs": [
    {
     "output_type": "execute_result",
     "data": {
      "text/plain": [
       "'checkpoints\\\\i3960_l512.ckpt'"
      ]
     },
     "metadata": {},
     "execution_count": 27
    }
   ],
   "metadata": {}
  },
  {
   "cell_type": "code",
   "execution_count": 28,
   "source": [
    "checkpoint = tf.train.latest_checkpoint('checkpoints')\r\n",
    "samp = sample(checkpoint, 2000, lstm_size, len(vocab), prime=\"Far\")\r\n",
    "print(samp)"
   ],
   "outputs": [
    {
     "output_type": "stream",
     "name": "stdout",
     "text": [
      "WARNING:tensorflow:Entity <bound method MultiRNNCell.call of <tensorflow.python.ops.rnn_cell_impl.MultiRNNCell object at 0x000001FBB2E13898>> could not be transformed and will be executed as-is. Please report this to the AutgoGraph team. When filing the bug, set the verbosity to 10 (on Linux, `export AUTOGRAPH_VERBOSITY=10`) and attach the full output. Cause: converting <bound method MultiRNNCell.call of <tensorflow.python.ops.rnn_cell_impl.MultiRNNCell object at 0x000001FBB2E13898>>: AttributeError: module 'gast' has no attribute 'Index'\n",
      "WARNING: Entity <bound method MultiRNNCell.call of <tensorflow.python.ops.rnn_cell_impl.MultiRNNCell object at 0x000001FBB2E13898>> could not be transformed and will be executed as-is. Please report this to the AutgoGraph team. When filing the bug, set the verbosity to 10 (on Linux, `export AUTOGRAPH_VERBOSITY=10`) and attach the full output. Cause: converting <bound method MultiRNNCell.call of <tensorflow.python.ops.rnn_cell_impl.MultiRNNCell object at 0x000001FBB2E13898>>: AttributeError: module 'gast' has no attribute 'Index'\n",
      "WARNING:tensorflow:Entity <bound method BasicLSTMCell.call of <tensorflow.python.ops.rnn_cell_impl.BasicLSTMCell object at 0x000001FBAEAC99E8>> could not be transformed and will be executed as-is. Please report this to the AutgoGraph team. When filing the bug, set the verbosity to 10 (on Linux, `export AUTOGRAPH_VERBOSITY=10`) and attach the full output. Cause: converting <bound method BasicLSTMCell.call of <tensorflow.python.ops.rnn_cell_impl.BasicLSTMCell object at 0x000001FBAEAC99E8>>: AssertionError: Bad argument number for Name: 3, expecting 4\n",
      "WARNING: Entity <bound method BasicLSTMCell.call of <tensorflow.python.ops.rnn_cell_impl.BasicLSTMCell object at 0x000001FBAEAC99E8>> could not be transformed and will be executed as-is. Please report this to the AutgoGraph team. When filing the bug, set the verbosity to 10 (on Linux, `export AUTOGRAPH_VERBOSITY=10`) and attach the full output. Cause: converting <bound method BasicLSTMCell.call of <tensorflow.python.ops.rnn_cell_impl.BasicLSTMCell object at 0x000001FBAEAC99E8>>: AssertionError: Bad argument number for Name: 3, expecting 4\n",
      "WARNING:tensorflow:Entity <bound method BasicLSTMCell.call of <tensorflow.python.ops.rnn_cell_impl.BasicLSTMCell object at 0x000001FBB71EDCF8>> could not be transformed and will be executed as-is. Please report this to the AutgoGraph team. When filing the bug, set the verbosity to 10 (on Linux, `export AUTOGRAPH_VERBOSITY=10`) and attach the full output. Cause: converting <bound method BasicLSTMCell.call of <tensorflow.python.ops.rnn_cell_impl.BasicLSTMCell object at 0x000001FBB71EDCF8>>: AssertionError: Bad argument number for Name: 3, expecting 4\n",
      "WARNING: Entity <bound method BasicLSTMCell.call of <tensorflow.python.ops.rnn_cell_impl.BasicLSTMCell object at 0x000001FBB71EDCF8>> could not be transformed and will be executed as-is. Please report this to the AutgoGraph team. When filing the bug, set the verbosity to 10 (on Linux, `export AUTOGRAPH_VERBOSITY=10`) and attach the full output. Cause: converting <bound method BasicLSTMCell.call of <tensorflow.python.ops.rnn_cell_impl.BasicLSTMCell object at 0x000001FBB71EDCF8>>: AssertionError: Bad argument number for Name: 3, expecting 4\n",
      "INFO:tensorflow:Restoring parameters from checkpoints\\i3960_l512.ckpt\n",
      "Farrous, who was always\n",
      "and was to grave this fellow, thinking of the come in a from this\n",
      "master, the master, shirtly after their fire interests, before\n",
      "her. He would have that impression to her answer that his shoulders.\n",
      "\n",
      "\"Well, why, I'm not always any of that challenge?\"\n",
      "\n",
      "\"I had nothing but the pattern to see that; she has never seen\n",
      "their left figure,\" he asked him to see himself that he could\n",
      "not help so taking all the sofal for me that was tried. She had\n",
      "taken up the passion of the sight of himself, but the pleasure of\n",
      "again that he was at all that he did not could something but to the birth\n",
      "to show hor and was attainted and himself and was to see thes\n",
      "out and all hisself all them.\n",
      "\n",
      "\"And I have been to be a study of more than externally intensities.\"\n",
      "\n",
      "\"What do you know....\"\n",
      "\n",
      "\"It's true of my death? We have saying something before the minute. I sha\n",
      "left to stay with her, and I want a grouse and set herself. It's not\n",
      "that, that's always about the conversation or the partity of to be\n",
      "sure to see you.\"\n",
      "\n",
      "\"What were you steps on the pape. As you want you interesting tomorrow\n",
      "with you. You know, we are sirranted. I don't know all the\n",
      "children's bright as the simple, terrible their princess, and the\n",
      "sort was as too letter and that to clive them off at this property,\n",
      "but had been still more thing, and told you the passionate of her\n",
      "face. Tend in one article, with the moment which would be about the\n",
      "same to thinks.\" He was not already to see him.\n",
      "\n",
      "\"That's not merely the same starring as too, she was asked of a stiling\n",
      "moment of the party of her, and went it.\n",
      "\n",
      "And he did not come to her they had not been allowed it, and so\n",
      "the sort of concerts, the caunes who are so little to be ashamed\n",
      "of a little, that he was intelligive, the most cold the same impression\n",
      "of their connections, and would be delighted. He will be a sold of this\n",
      "compleiness, he would have to say a men, the suck must terrible\n",
      "choocest class in the point of his heart, he came out of the strung\n",
      "sort, but stronger\n"
     ]
    }
   ],
   "metadata": {}
  },
  {
   "cell_type": "code",
   "execution_count": 29,
   "source": [
    "checkpoint = 'checkpoints/i200_l512.ckpt'\r\n",
    "samp = sample(checkpoint, 1000, lstm_size, len(vocab), prime=\"Far\")\r\n",
    "print(samp)"
   ],
   "outputs": [
    {
     "output_type": "stream",
     "name": "stdout",
     "text": [
      "WARNING:tensorflow:Entity <bound method MultiRNNCell.call of <tensorflow.python.ops.rnn_cell_impl.MultiRNNCell object at 0x000001FBB30AB4E0>> could not be transformed and will be executed as-is. Please report this to the AutgoGraph team. When filing the bug, set the verbosity to 10 (on Linux, `export AUTOGRAPH_VERBOSITY=10`) and attach the full output. Cause: converting <bound method MultiRNNCell.call of <tensorflow.python.ops.rnn_cell_impl.MultiRNNCell object at 0x000001FBB30AB4E0>>: AttributeError: module 'gast' has no attribute 'Index'\n",
      "WARNING: Entity <bound method MultiRNNCell.call of <tensorflow.python.ops.rnn_cell_impl.MultiRNNCell object at 0x000001FBB30AB4E0>> could not be transformed and will be executed as-is. Please report this to the AutgoGraph team. When filing the bug, set the verbosity to 10 (on Linux, `export AUTOGRAPH_VERBOSITY=10`) and attach the full output. Cause: converting <bound method MultiRNNCell.call of <tensorflow.python.ops.rnn_cell_impl.MultiRNNCell object at 0x000001FBB30AB4E0>>: AttributeError: module 'gast' has no attribute 'Index'\n",
      "WARNING:tensorflow:Entity <bound method BasicLSTMCell.call of <tensorflow.python.ops.rnn_cell_impl.BasicLSTMCell object at 0x000001FBB3011C50>> could not be transformed and will be executed as-is. Please report this to the AutgoGraph team. When filing the bug, set the verbosity to 10 (on Linux, `export AUTOGRAPH_VERBOSITY=10`) and attach the full output. Cause: converting <bound method BasicLSTMCell.call of <tensorflow.python.ops.rnn_cell_impl.BasicLSTMCell object at 0x000001FBB3011C50>>: AssertionError: Bad argument number for Name: 3, expecting 4\n",
      "WARNING: Entity <bound method BasicLSTMCell.call of <tensorflow.python.ops.rnn_cell_impl.BasicLSTMCell object at 0x000001FBB3011C50>> could not be transformed and will be executed as-is. Please report this to the AutgoGraph team. When filing the bug, set the verbosity to 10 (on Linux, `export AUTOGRAPH_VERBOSITY=10`) and attach the full output. Cause: converting <bound method BasicLSTMCell.call of <tensorflow.python.ops.rnn_cell_impl.BasicLSTMCell object at 0x000001FBB3011C50>>: AssertionError: Bad argument number for Name: 3, expecting 4\n",
      "WARNING:tensorflow:Entity <bound method BasicLSTMCell.call of <tensorflow.python.ops.rnn_cell_impl.BasicLSTMCell object at 0x000001FBB7243F98>> could not be transformed and will be executed as-is. Please report this to the AutgoGraph team. When filing the bug, set the verbosity to 10 (on Linux, `export AUTOGRAPH_VERBOSITY=10`) and attach the full output. Cause: converting <bound method BasicLSTMCell.call of <tensorflow.python.ops.rnn_cell_impl.BasicLSTMCell object at 0x000001FBB7243F98>>: AssertionError: Bad argument number for Name: 3, expecting 4\n",
      "WARNING: Entity <bound method BasicLSTMCell.call of <tensorflow.python.ops.rnn_cell_impl.BasicLSTMCell object at 0x000001FBB7243F98>> could not be transformed and will be executed as-is. Please report this to the AutgoGraph team. When filing the bug, set the verbosity to 10 (on Linux, `export AUTOGRAPH_VERBOSITY=10`) and attach the full output. Cause: converting <bound method BasicLSTMCell.call of <tensorflow.python.ops.rnn_cell_impl.BasicLSTMCell object at 0x000001FBB7243F98>>: AssertionError: Bad argument number for Name: 3, expecting 4\n",
      "INFO:tensorflow:Restoring parameters from checkpoints/i200_l512.ckpt\n",
      "Fargith ite, she were sathins ant ort he tat ind tim hire, sho shes and ore het wot hhe sond ote sontet ang and was thete\n",
      "hing of thers athe talt otho thire ho hhe he time hhe wot he ante\n",
      "olt int hor he wetan the whothas and the this hise ande what whe ser at the tor te setat ase th sanging\n",
      "toud tite thered ans ant he teot, ad the hed whe he siton he won sher wet if as and afte tot on tare sor ong ton hee tas he sot atir ho han her arding the hers whand sond wandet ond\n",
      "sonthes tot oud that he tothisg ot time wotthir woutte\n",
      "\n",
      "he than tor thes ato the werersotint on oo aleterithe sore wer ore satin he we herse he tistit het he ase ang and thintes ant ot ther an and ans and the artit ar tethe tore hont, wans wot it orerersans ot he timit the tout tet hererang he saserinting wha thos hhe her sate he tor ond, ang ho tit anthe sal to sotos anth soth as he warser he the hir on he tar toun ho sere wor has wind het wasd the wor out ise alild the hhin this whisg the sore tan of ang the wal and the hh\n"
     ]
    }
   ],
   "metadata": {}
  },
  {
   "cell_type": "code",
   "execution_count": 30,
   "source": [
    "checkpoint = 'checkpoints/i600_l512.ckpt'\r\n",
    "samp = sample(checkpoint, 1000, lstm_size, len(vocab), prime=\"Far\")\r\n",
    "print(samp)"
   ],
   "outputs": [
    {
     "output_type": "stream",
     "name": "stdout",
     "text": [
      "WARNING:tensorflow:Entity <bound method MultiRNNCell.call of <tensorflow.python.ops.rnn_cell_impl.MultiRNNCell object at 0x000001FBB36B3A58>> could not be transformed and will be executed as-is. Please report this to the AutgoGraph team. When filing the bug, set the verbosity to 10 (on Linux, `export AUTOGRAPH_VERBOSITY=10`) and attach the full output. Cause: converting <bound method MultiRNNCell.call of <tensorflow.python.ops.rnn_cell_impl.MultiRNNCell object at 0x000001FBB36B3A58>>: AttributeError: module 'gast' has no attribute 'Index'\n",
      "WARNING: Entity <bound method MultiRNNCell.call of <tensorflow.python.ops.rnn_cell_impl.MultiRNNCell object at 0x000001FBB36B3A58>> could not be transformed and will be executed as-is. Please report this to the AutgoGraph team. When filing the bug, set the verbosity to 10 (on Linux, `export AUTOGRAPH_VERBOSITY=10`) and attach the full output. Cause: converting <bound method MultiRNNCell.call of <tensorflow.python.ops.rnn_cell_impl.MultiRNNCell object at 0x000001FBB36B3A58>>: AttributeError: module 'gast' has no attribute 'Index'\n",
      "WARNING:tensorflow:Entity <bound method BasicLSTMCell.call of <tensorflow.python.ops.rnn_cell_impl.BasicLSTMCell object at 0x000001FBB376FEF0>> could not be transformed and will be executed as-is. Please report this to the AutgoGraph team. When filing the bug, set the verbosity to 10 (on Linux, `export AUTOGRAPH_VERBOSITY=10`) and attach the full output. Cause: converting <bound method BasicLSTMCell.call of <tensorflow.python.ops.rnn_cell_impl.BasicLSTMCell object at 0x000001FBB376FEF0>>: AssertionError: Bad argument number for Name: 3, expecting 4\n",
      "WARNING: Entity <bound method BasicLSTMCell.call of <tensorflow.python.ops.rnn_cell_impl.BasicLSTMCell object at 0x000001FBB376FEF0>> could not be transformed and will be executed as-is. Please report this to the AutgoGraph team. When filing the bug, set the verbosity to 10 (on Linux, `export AUTOGRAPH_VERBOSITY=10`) and attach the full output. Cause: converting <bound method BasicLSTMCell.call of <tensorflow.python.ops.rnn_cell_impl.BasicLSTMCell object at 0x000001FBB376FEF0>>: AssertionError: Bad argument number for Name: 3, expecting 4\n",
      "WARNING:tensorflow:Entity <bound method BasicLSTMCell.call of <tensorflow.python.ops.rnn_cell_impl.BasicLSTMCell object at 0x000001FBB376F668>> could not be transformed and will be executed as-is. Please report this to the AutgoGraph team. When filing the bug, set the verbosity to 10 (on Linux, `export AUTOGRAPH_VERBOSITY=10`) and attach the full output. Cause: converting <bound method BasicLSTMCell.call of <tensorflow.python.ops.rnn_cell_impl.BasicLSTMCell object at 0x000001FBB376F668>>: AssertionError: Bad argument number for Name: 3, expecting 4\n",
      "WARNING: Entity <bound method BasicLSTMCell.call of <tensorflow.python.ops.rnn_cell_impl.BasicLSTMCell object at 0x000001FBB376F668>> could not be transformed and will be executed as-is. Please report this to the AutgoGraph team. When filing the bug, set the verbosity to 10 (on Linux, `export AUTOGRAPH_VERBOSITY=10`) and attach the full output. Cause: converting <bound method BasicLSTMCell.call of <tensorflow.python.ops.rnn_cell_impl.BasicLSTMCell object at 0x000001FBB376F668>>: AssertionError: Bad argument number for Name: 3, expecting 4\n",
      "INFO:tensorflow:Restoring parameters from checkpoints/i600_l512.ckpt\n",
      "Farrid an hom,. The said a so menting her hen to har she said that she has that\n",
      "he sad sound her to his herested to had streadion was toor a she she\n",
      "was not\n",
      "said to\n",
      "tho good.\"\n",
      "\n",
      "\"Whough to his shing he ther said him\n",
      "sitine, though hid him byer the sairing time, thought of her all a prasce, to he his soness.\n",
      "\n",
      "\"Whal, as she wander in har bace had be ne that the croncer the poscorsters that with the was sanding wones of to her sondes to his alove in a mering were them allest of that it\n",
      "her, shat he\n",
      "has baged an ofention an atorians on iment ontor a she wis that her, were he had the sore one as and him tan the whoter the chomtrens, and the could and thought an the poncer thet the some tise to boon what it wert and to his her asting, and and with his seed a mating themer offor at him his wat her trisk of to the with the wall tare that a minte and tresice andition the same\n",
      "to har and and wongen the pessead, and stidling her that and he were to doul on the wass, and he was notered of in her the hi\n"
     ]
    }
   ],
   "metadata": {}
  },
  {
   "cell_type": "code",
   "execution_count": 31,
   "source": [
    "checkpoint = 'checkpoints/i1200_l512.ckpt'\r\n",
    "samp = sample(checkpoint, 1000, lstm_size, len(vocab), prime=\"Far\")\r\n",
    "print(samp)"
   ],
   "outputs": [
    {
     "output_type": "stream",
     "name": "stdout",
     "text": [
      "WARNING:tensorflow:Entity <bound method MultiRNNCell.call of <tensorflow.python.ops.rnn_cell_impl.MultiRNNCell object at 0x000001FBB854EAC8>> could not be transformed and will be executed as-is. Please report this to the AutgoGraph team. When filing the bug, set the verbosity to 10 (on Linux, `export AUTOGRAPH_VERBOSITY=10`) and attach the full output. Cause: converting <bound method MultiRNNCell.call of <tensorflow.python.ops.rnn_cell_impl.MultiRNNCell object at 0x000001FBB854EAC8>>: AttributeError: module 'gast' has no attribute 'Index'\n",
      "WARNING: Entity <bound method MultiRNNCell.call of <tensorflow.python.ops.rnn_cell_impl.MultiRNNCell object at 0x000001FBB854EAC8>> could not be transformed and will be executed as-is. Please report this to the AutgoGraph team. When filing the bug, set the verbosity to 10 (on Linux, `export AUTOGRAPH_VERBOSITY=10`) and attach the full output. Cause: converting <bound method MultiRNNCell.call of <tensorflow.python.ops.rnn_cell_impl.MultiRNNCell object at 0x000001FBB854EAC8>>: AttributeError: module 'gast' has no attribute 'Index'\n",
      "WARNING:tensorflow:Entity <bound method BasicLSTMCell.call of <tensorflow.python.ops.rnn_cell_impl.BasicLSTMCell object at 0x000001FBB6F829E8>> could not be transformed and will be executed as-is. Please report this to the AutgoGraph team. When filing the bug, set the verbosity to 10 (on Linux, `export AUTOGRAPH_VERBOSITY=10`) and attach the full output. Cause: converting <bound method BasicLSTMCell.call of <tensorflow.python.ops.rnn_cell_impl.BasicLSTMCell object at 0x000001FBB6F829E8>>: AssertionError: Bad argument number for Name: 3, expecting 4\n",
      "WARNING: Entity <bound method BasicLSTMCell.call of <tensorflow.python.ops.rnn_cell_impl.BasicLSTMCell object at 0x000001FBB6F829E8>> could not be transformed and will be executed as-is. Please report this to the AutgoGraph team. When filing the bug, set the verbosity to 10 (on Linux, `export AUTOGRAPH_VERBOSITY=10`) and attach the full output. Cause: converting <bound method BasicLSTMCell.call of <tensorflow.python.ops.rnn_cell_impl.BasicLSTMCell object at 0x000001FBB6F829E8>>: AssertionError: Bad argument number for Name: 3, expecting 4\n",
      "WARNING:tensorflow:Entity <bound method BasicLSTMCell.call of <tensorflow.python.ops.rnn_cell_impl.BasicLSTMCell object at 0x000001FBB6F821D0>> could not be transformed and will be executed as-is. Please report this to the AutgoGraph team. When filing the bug, set the verbosity to 10 (on Linux, `export AUTOGRAPH_VERBOSITY=10`) and attach the full output. Cause: converting <bound method BasicLSTMCell.call of <tensorflow.python.ops.rnn_cell_impl.BasicLSTMCell object at 0x000001FBB6F821D0>>: AssertionError: Bad argument number for Name: 3, expecting 4\n",
      "WARNING: Entity <bound method BasicLSTMCell.call of <tensorflow.python.ops.rnn_cell_impl.BasicLSTMCell object at 0x000001FBB6F821D0>> could not be transformed and will be executed as-is. Please report this to the AutgoGraph team. When filing the bug, set the verbosity to 10 (on Linux, `export AUTOGRAPH_VERBOSITY=10`) and attach the full output. Cause: converting <bound method BasicLSTMCell.call of <tensorflow.python.ops.rnn_cell_impl.BasicLSTMCell object at 0x000001FBB6F821D0>>: AssertionError: Bad argument number for Name: 3, expecting 4\n",
      "INFO:tensorflow:Restoring parameters from checkpoints/i1200_l512.ckpt\n",
      "Farnd, as the canting out of to the possite and would take her. The pastension and handen with what was the backer and world the canraition of the his\n",
      "pastion was as a sont of her at time and weiting in the mistle of the chomse of\n",
      "a though of a stramilis of to be intringedent of all the comportion of a satten and was\n",
      "it was in time of the\n",
      "cape of the confriction of a loves to have her hould to sear the porters, should strinken in the more for the most of\n",
      "his painting. But to her all of a clild had but her hearts, were\n",
      "terring to see him a minute a done and seed to be sone and so some over the sone that in the pling herself,. Seed Aloxhy with his hands in her\n",
      "from his heart to seem her at the stay of her sot thought him went of the commost of the simpros of the hord with the mearant, as he wonle\n",
      "betanted her sucher, and with his fithed and the contcants that he seem,\n",
      "and he was to the such a princos and so with the callecita in whee it's a persanist to be interest taking to the morth, but t\n"
     ]
    }
   ],
   "metadata": {}
  },
  {
   "cell_type": "code",
   "execution_count": 32,
   "source": [
    "checkpoint = 'checkpoints/i3960_l512.ckpt'\r\n",
    "samp = sample(checkpoint, 1000, lstm_size, len(vocab), prime=\"Far\")\r\n",
    "print(samp)"
   ],
   "outputs": [
    {
     "output_type": "stream",
     "name": "stdout",
     "text": [
      "WARNING:tensorflow:Entity <bound method MultiRNNCell.call of <tensorflow.python.ops.rnn_cell_impl.MultiRNNCell object at 0x000001FBB2CE3390>> could not be transformed and will be executed as-is. Please report this to the AutgoGraph team. When filing the bug, set the verbosity to 10 (on Linux, `export AUTOGRAPH_VERBOSITY=10`) and attach the full output. Cause: converting <bound method MultiRNNCell.call of <tensorflow.python.ops.rnn_cell_impl.MultiRNNCell object at 0x000001FBB2CE3390>>: AttributeError: module 'gast' has no attribute 'Index'\n",
      "WARNING: Entity <bound method MultiRNNCell.call of <tensorflow.python.ops.rnn_cell_impl.MultiRNNCell object at 0x000001FBB2CE3390>> could not be transformed and will be executed as-is. Please report this to the AutgoGraph team. When filing the bug, set the verbosity to 10 (on Linux, `export AUTOGRAPH_VERBOSITY=10`) and attach the full output. Cause: converting <bound method MultiRNNCell.call of <tensorflow.python.ops.rnn_cell_impl.MultiRNNCell object at 0x000001FBB2CE3390>>: AttributeError: module 'gast' has no attribute 'Index'\n",
      "WARNING:tensorflow:Entity <bound method BasicLSTMCell.call of <tensorflow.python.ops.rnn_cell_impl.BasicLSTMCell object at 0x000001FBB70A42E8>> could not be transformed and will be executed as-is. Please report this to the AutgoGraph team. When filing the bug, set the verbosity to 10 (on Linux, `export AUTOGRAPH_VERBOSITY=10`) and attach the full output. Cause: converting <bound method BasicLSTMCell.call of <tensorflow.python.ops.rnn_cell_impl.BasicLSTMCell object at 0x000001FBB70A42E8>>: AssertionError: Bad argument number for Name: 3, expecting 4\n",
      "WARNING: Entity <bound method BasicLSTMCell.call of <tensorflow.python.ops.rnn_cell_impl.BasicLSTMCell object at 0x000001FBB70A42E8>> could not be transformed and will be executed as-is. Please report this to the AutgoGraph team. When filing the bug, set the verbosity to 10 (on Linux, `export AUTOGRAPH_VERBOSITY=10`) and attach the full output. Cause: converting <bound method BasicLSTMCell.call of <tensorflow.python.ops.rnn_cell_impl.BasicLSTMCell object at 0x000001FBB70A42E8>>: AssertionError: Bad argument number for Name: 3, expecting 4\n",
      "WARNING:tensorflow:Entity <bound method BasicLSTMCell.call of <tensorflow.python.ops.rnn_cell_impl.BasicLSTMCell object at 0x000001FBB716E128>> could not be transformed and will be executed as-is. Please report this to the AutgoGraph team. When filing the bug, set the verbosity to 10 (on Linux, `export AUTOGRAPH_VERBOSITY=10`) and attach the full output. Cause: converting <bound method BasicLSTMCell.call of <tensorflow.python.ops.rnn_cell_impl.BasicLSTMCell object at 0x000001FBB716E128>>: AssertionError: Bad argument number for Name: 3, expecting 4\n",
      "WARNING: Entity <bound method BasicLSTMCell.call of <tensorflow.python.ops.rnn_cell_impl.BasicLSTMCell object at 0x000001FBB716E128>> could not be transformed and will be executed as-is. Please report this to the AutgoGraph team. When filing the bug, set the verbosity to 10 (on Linux, `export AUTOGRAPH_VERBOSITY=10`) and attach the full output. Cause: converting <bound method BasicLSTMCell.call of <tensorflow.python.ops.rnn_cell_impl.BasicLSTMCell object at 0x000001FBB716E128>>: AssertionError: Bad argument number for Name: 3, expecting 4\n",
      "INFO:tensorflow:Restoring parameters from checkpoints/i3960_l512.ckpt\n",
      "Farring at the\n",
      "man was in his heart. She stood of his brother's conversation. \"He\n",
      "said that in a prince of all takes.\"\n",
      "\n",
      "\"I'm about to talk to me.\"\n",
      "\n",
      "The peasant was so learning them all his brains, and steal on a\n",
      "startle of a climplet of the crimen, and this face with which his\n",
      "soul, was satiofs about his back again, he saw that the stairers were\n",
      "too large at it.\n",
      "\n",
      "\"That's so share!\n",
      "You know that I. They would have to believe it with her for my face\n",
      "on the dand to my pain.\"\n",
      "\n",
      "\"Why, it's a longer and all, if'ely do they tordure...\"\n",
      "\n",
      "\"Why are you a difficult despair.\"\n",
      "\n",
      "\"Ah!\" said Kitty to the crimson of the drove to his hand to her\n",
      "heart. \"I see and however yeals in the musice and all of it. We'll give\n",
      "him to take him and won't be a letter within thought.\"\n",
      "\n",
      "\"What would be. I'm not looking at the sight of his marn.\"\n",
      "\n",
      "\"Oh, then?\"\n",
      "\n",
      "\"I should not be impersended.\"\n",
      "\n",
      "And at the solution was not at the sensition; but he wrote too,\n",
      "and she had seen him and thinking of their children, that his husband\n",
      "ha\n"
     ]
    }
   ],
   "metadata": {}
  },
  {
   "cell_type": "code",
   "execution_count": null,
   "source": [],
   "outputs": [],
   "metadata": {}
  }
 ],
 "metadata": {
  "kernelspec": {
   "name": "python3",
   "display_name": "Python 3.6.13 64-bit ('tf_1.4': conda)"
  },
  "language_info": {
   "codemirror_mode": {
    "name": "ipython",
    "version": 3
   },
   "file_extension": ".py",
   "mimetype": "text/x-python",
   "name": "python",
   "nbconvert_exporter": "python",
   "pygments_lexer": "ipython3",
   "version": "3.6.13"
  },
  "interpreter": {
   "hash": "e415ddaa34d155e973d1aa2044aeb7e099c6ec84708a0128432963475ff2e3a7"
  }
 },
 "nbformat": 4,
 "nbformat_minor": 2
}